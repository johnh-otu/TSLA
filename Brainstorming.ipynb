{
  "metadata": {
    "kernelspec": {
      "name": "python",
      "display_name": "Python (Pyodide)",
      "language": "python"
    },
    "language_info": {
      "codemirror_mode": {
        "name": "python",
        "version": 3
      },
      "file_extension": ".py",
      "mimetype": "text/x-python",
      "name": "python",
      "nbconvert_exporter": "python",
      "pygments_lexer": "ipython3",
      "version": "3.8"
    }
  },
  "nbformat_minor": 5,
  "nbformat": 4,
  "cells": [
    {
      "id": "c1a3ee11-a517-4bc3-9884-def69d6e1fa2",
      "cell_type": "markdown",
      "source": "## Brainstorming",
      "metadata": {}
    },
    {
      "id": "d30628b0-c969-4201-bb57-ebfc12c7b47d",
      "cell_type": "markdown",
      "source": "### Baseline\n- Use a linear model as a strategy for the baseline\n- Compare with other strategy\n### Strategy\n- We will use yfinance to get data for $TSLA.\n- Split data keeping in mind time-series continuity\n- Implement a Random Forest Regressor to predict next day's return\n- Simulate a trading decision for today using most recent data point\n    - Decision based on mean reversion:\n        - If price is sufficiently below moving average -> upward move (buy)\n        - If price is sufficiently above moving average -> expected drop (sell)\n        - else: hold\n    - Use threshold value to determine how much above/below moving average is sufficient for transaction\n### Feature Engineering\n- computes 20-day rolling mean and relative spread indicator\n- calculates next day return -> target for forecasting\n- date will not be included but used for selecting input features\n### Training\n- RandomForestRegressor -> trained on data - 20 rows (to keep time ordering intact)?\n- Script predicts next-day return using most recent data point and compares it to a predefined threshold\n### Order Simulation\n- Based on decision, one of the following is returned:\n    - Buy : \\<dollar_amount>\n    - Sell : \\<num_shares>\n    - Hold: No transaction.",
      "metadata": {}
    },
    {
      "id": "080fd328-c962-47b2-a050-dfd043049224",
      "cell_type": "markdown",
      "source": "## GPT Code",
      "metadata": {}
    },
    {
      "id": "befd3588-cf4c-46ff-9c0a-89fa3a7a09f9",
      "cell_type": "code",
      "source": "# Import Libraries\nimport yfinance as yf\nimport pandas as pd\nimport numpy as np\nimport pickle\nfrom sklearn.ensemble import RandomForestRegressor\nfrom sklearn.model_selection import train_test_split\nfrom sklearn.metrics import mean_squared_error",
      "metadata": {},
      "outputs": [],
      "execution_count": 1
    },
    {
      "id": "a6d07c70-aec2-48f8-8b6f-73665a4536d0",
      "cell_type": "code",
      "source": "# Parameters and settings\nticker = \"TSLA\"\nperiod = \"1y\"  # historical period to pull\nwindow = 20    # rolling window for moving average\nthreshold = 0.005  # threshold for decision making\ncapital = 10000  # starting capital in USD\ntransaction_fee_rate = 0.01  # 1% fee",
      "metadata": {},
      "outputs": [],
      "execution_count": null
    },
    {
      "id": "bc22d13b-6fbf-4695-84f1-1496205a8c65",
      "cell_type": "markdown",
      "source": "### STEP 1: Import Data",
      "metadata": {}
    },
    {
      "id": "422ea8b0-f2a6-4244-8a45-05d43791f6ad",
      "cell_type": "code",
      "source": "# TODO: This is currently importing data from the last year. \n# We could import this for training, but only the last X days are required for present day evaluation\n\nprint(\"Downloading historical data...\")\ndata = yf.download(ticker, period=period, interval=\"1d\")\n\n# Ensure data is available\nif data.empty:\n    raise ValueError(\"No data was fetched. Check your ticker or network connection.\")",
      "metadata": {},
      "outputs": [],
      "execution_count": null
    },
    {
      "id": "491e74dd-fcff-4098-a498-8122bf05cd72",
      "cell_type": "code",
      "source": "# Import Training Data from CSV\n# Load data from CSV\nfile_path = \"TSLA.csv\"\ndata = pd.read_csv(file_path)\n\n# Convert 'Date' column to datetime format\nif 'Date' in data.columns:\n    data['Date'] = pd.to_datetime(data['Date'])\n\n# Display first few rows to verify the import\nprint(data.head())",
      "metadata": {},
      "outputs": [],
      "execution_count": 2
    },
    {
      "id": "58b293d3-a720-4faa-93bd-e716f1ce8586",
      "cell_type": "markdown",
      "source": "### STEP 2: Feature Engineering for Mean Reversion",
      "metadata": {}
    },
    {
      "id": "6eacc997-daff-4e64-af44-662d99ebec53",
      "cell_type": "code",
      "source": "# Calculate the rolling (moving) mean of the Adjusted Close price\ndata['Rolling_Mean'] = data['Adj Close'].rolling(window=window).mean()\n\n# Calculate the \"spread\" - how far the current price is from the rolling mean (relative difference)\ndata['Spread'] = (data['Adj Close'] - data['Rolling_Mean']) / data['Rolling_Mean']\n\n# Create a target price change: next day's return (percentage change)\ndata['Next_Day_Return'] = data['Adj Close'].shift(-1) / data['Adj Close'] - 1\n\n# Remove rows with missing values (NaN) which result from rolling calculations and shifting\ndata.dropna(inplace=True) #TODO: CHECK IF THIS RUINS THE SYSTEM\n# I think this is used to remove the first/last row? Which wouldn't have data for the next-day-return\n# We should test this to determine what this is doing exactly",
      "metadata": {},
      "outputs": [],
      "execution_count": null
    },
    {
      "id": "e93775e8-51ab-4f2b-9133-df63c32f27f6",
      "cell_type": "markdown",
      "source": "### STEP 3: Prepare Features and Target Label for the ML Model",
      "metadata": {}
    },
    {
      "id": "cc8be900-d4db-4295-bcc5-e47806c556a9",
      "cell_type": "code",
      "source": "features = ['Open', 'High', 'Low', 'Close', 'Volume', 'Rolling_Mean', 'Spread']\nX = data[features]\ny = data['Next_Day_Return']\n\n# For time-series data, ensure we do not shuffle the data.\n# Here we split based on an 80/20 ratio as an example.\n# TODO: Check if we need to 80/20 split here. I'm not sure it's required since our test data will be real-time data\nsplit_index = int(len(data)*0.8)\nX_train, X_test = X.iloc[:split_index], X.iloc[split_index:]\ny_train, y_test = y.iloc[:split_index], y.iloc[split_index:]",
      "metadata": {},
      "outputs": [],
      "execution_count": null
    },
    {
      "id": "8f25bec3-6500-4584-9772-4013de4b6967",
      "cell_type": "markdown",
      "source": "### STEP 4: Train Random Forest Regressor",
      "metadata": {}
    },
    {
      "id": "5fb04fd1-5fcb-4464-9a06-5a0a7696f6a5",
      "cell_type": "code",
      "source": "# Train model\nprint(\"Training Random Forest model...\")\nmodel = RandomForestRegressor(n_estimators=100, random_state=42)\nmodel.fit(X_train, y_train)",
      "metadata": {},
      "outputs": [],
      "execution_count": null
    },
    {
      "id": "57a1ac15-8f90-45e8-808f-a624638afbb8",
      "cell_type": "code",
      "source": "# Save trained model\nmodel_filename = \"tsla_model.pkl\"\nwith open(model_filename, \"wb\") as file:\n    pickle.dump(model, file)\n\nprint(f\"Model saved to {model_filename}\")",
      "metadata": {
        "trusted": true
      },
      "outputs": [],
      "execution_count": null
    },
    {
      "id": "770d3cdd-2f19-4753-9e09-9dc5cf539f23",
      "cell_type": "code",
      "source": "# Evaluate model\n# TODO: This will not be required for the final version. Instead we will only be training the model.\n# It may be worth testing so we have some evaluation metrics.\npreds = model.predict(X_test)\nmse = mean_squared_error(y_test, preds)\nprint(f\"Test Mean Squared Error: {mse:.6f}\")",
      "metadata": {},
      "outputs": [],
      "execution_count": null
    },
    {
      "id": "ac73af3c-3cbb-44b7-807f-1accea02aa4c",
      "cell_type": "markdown",
      "source": "### STEP 5: Trading Decision and Simulation",
      "metadata": {}
    },
    {
      "id": "30bcb44f-f0c5-4c97-bf40-6b804f8e54b2",
      "cell_type": "code",
      "source": "# Run model evaluation\n\n# We'll assume the \"latest\" row represents today's data (to be used before 9:00 AM for submission).\n# TODO: Write code to fetch only the data needed for today's estimation.\n# TODO: Where's rolling mean here??? The model may not run if it's not included (calculate this)\nlatest = data.iloc[-1]\nlatest_features = latest[features].values.reshape(1, -1)\npredicted_return = model.predict(latest_features)[0]\nspread = latest['Spread']",
      "metadata": {},
      "outputs": [],
      "execution_count": null
    },
    {
      "id": "a19c0942-aafc-4c62-9ea2-02b3a3d757cf",
      "cell_type": "code",
      "source": "# Buy/Sell/Hold decision\n\n# Trading signal based on a mean reversion strategy:\n# - If price is below the moving average (spread is negative) and we predict an upward move,\n#   then it might be undervalued -> signal to Buy.\n# - If price is above the moving average (spread is positive) and we predict a downward move,\n#   then it might be overvalued -> signal to Sell.\n# - Otherwise, Hold.\nif predicted_return > threshold and spread < -threshold:\n    decision = \"Buy\"\nelif predicted_return < -threshold and spread > threshold:\n    decision = \"Sell\"\nelse:\n    decision = \"Hold\"\n\nprint(\"\\nTrading Decision:\")\nprint(f\"Predicted Next Day Return: {predicted_return:.4f}\")\nprint(f\"Spread (Deviation from mean): {spread:.4f}\")\nprint(\"Advice:\", decision)",
      "metadata": {},
      "outputs": [],
      "execution_count": null
    },
    {
      "id": "fecb7aad-d3c8-444a-8b54-80d8690bcb96",
      "cell_type": "code",
      "source": "# Simulate order details based on the decision.\n\n# TODO: Implement a more robust way of tracking which orders have been made (i.e. csv or external file)\n# Number of shares held should be based on actual value\n\n# Here we set simple rules for order sizing. In a full implementation, you would incorporate your current portfolio.\nif decision == \"Buy\":\n    # Example: invest 10% of current capital (before transaction fees)\n    buy_amount = capital * 0.1\n    # Adjust for a 1% fee\n    buy_amount_after_fee = buy_amount * (1 - transaction_fee_rate)\n    print(f\"Buy: ${buy_amount_after_fee:.2f} worth of shares.\")\nelif decision == \"Sell\":\n    # Example: assume you hold some shares; here, we'll simulate selling 10% of a placeholder holding.\n    num_shares_held = 10  # This should come from your portfolio tracking system.\n    shares_to_sell = max(int(num_shares_held * 0.1), 1)\n    print(f\"Sell: {shares_to_sell} shares (after applying transaction fees to proceeds).\")\nelse:\n    print(\"Hold: No transaction will be made.\")",
      "metadata": {},
      "outputs": [],
      "execution_count": null
    }
  ]
}