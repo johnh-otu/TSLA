{
 "cells": [
  {
   "cell_type": "markdown",
   "id": "c1a3ee11-a517-4bc3-9884-def69d6e1fa2",
   "metadata": {},
   "source": [
    "## Brainstorming"
   ]
  },
  {
   "cell_type": "markdown",
   "id": "d30628b0-c969-4201-bb57-ebfc12c7b47d",
   "metadata": {},
   "source": [
    "### Baseline\n",
    "- Use a linear model as a strategy for the baseline\n",
    "- Compare with other strategy\n",
    "### Strategy\n",
    "- We will use yfinance to get data for $TSLA.\n",
    "- Split data keeping in mind time-series continuity\n",
    "- Implement a Random Forest Regressor to predict next day's return\n",
    "- Simulate a trading decision for today using most recent data point\n",
    "    - Decision based on mean reversion:\n",
    "        - If price is sufficiently below moving average -> upward move (buy)\n",
    "        - If price is sufficiently above moving average -> expected drop (sell)\n",
    "        - else: hold\n",
    "    - Use threshold value to determine how much above/below moving average is sufficient for transaction\n",
    "### Feature Engineering\n",
    "- computes 20-day rolling mean and relative spread indicator\n",
    "- calculates next day return -> target for forecasting\n",
    "- date will not be included but used for selecting input features\n",
    "### Training\n",
    "- RandomForestRegressor -> trained on data - 20 rows (to keep time ordering intact)?\n",
    "- Script predicts next-day return using most recent data point and compares it to a predefined threshold\n",
    "### Order Simulation\n",
    "- Based on decision, one of the following is returned:\n",
    "    - Buy : \\<dollar_amount>\n",
    "    - Sell : \\<num_shares>\n",
    "    - Hold: No transaction."
   ]
  },
  {
   "cell_type": "markdown",
   "id": "080fd328-c962-47b2-a050-dfd043049224",
   "metadata": {},
   "source": [
    "## GPT Code"
   ]
  },
  {
   "cell_type": "code",
   "execution_count": 1,
   "id": "befd3588-cf4c-46ff-9c0a-89fa3a7a09f9",
   "metadata": {},
   "outputs": [],
   "source": [
    "# Import Libraries\n",
    "import yfinance as yf\n",
    "import pandas as pd\n",
    "import numpy as np\n",
    "from sklearn.ensemble import RandomForestRegressor\n",
    "from sklearn.model_selection import train_test_split\n",
    "from sklearn.metrics import mean_squared_error"
   ]
  },
  {
   "cell_type": "code",
   "execution_count": null,
   "id": "a6d07c70-aec2-48f8-8b6f-73665a4536d0",
   "metadata": {},
   "outputs": [],
   "source": [
    "# Parameters and settings\n",
    "ticker = \"TSLA\"\n",
    "period = \"1y\"  # historical period to pull\n",
    "window = 20    # rolling window for moving average\n",
    "threshold = 0.005  # threshold for decision making\n",
    "capital = 10000  # starting capital in USD\n",
    "transaction_fee_rate = 0.01  # 1% fee"
   ]
  },
  {
   "cell_type": "markdown",
   "id": "bc22d13b-6fbf-4695-84f1-1496205a8c65",
   "metadata": {},
   "source": [
    "### STEP 1: Import Data"
   ]
  },
  {
   "cell_type": "code",
   "execution_count": null,
   "id": "422ea8b0-f2a6-4244-8a45-05d43791f6ad",
   "metadata": {},
   "outputs": [],
   "source": [
    "# TODO: This is currently importing data from the last year. \n",
    "# We could import this for training, but only the last X days are required for present day evaluation\n",
    "\n",
    "print(\"Downloading historical data...\")\n",
    "data = yf.download(ticker, period=period, interval=\"1d\")\n",
    "\n",
    "# Ensure data is available\n",
    "if data.empty:\n",
    "    raise ValueError(\"No data was fetched. Check your ticker or network connection.\")"
   ]
  },
  {
   "cell_type": "code",
   "execution_count": 2,
   "id": "491e74dd-fcff-4098-a498-8122bf05cd72",
   "metadata": {},
   "outputs": [],
   "source": [
    "# TODO: Import Training Data from CSV"
   ]
  },
  {
   "cell_type": "markdown",
   "id": "58b293d3-a720-4faa-93bd-e716f1ce8586",
   "metadata": {},
   "source": [
    "### STEP 2: Feature Engineering for Mean Reversion"
   ]
  },
  {
   "cell_type": "code",
   "execution_count": null,
   "id": "6eacc997-daff-4e64-af44-662d99ebec53",
   "metadata": {},
   "outputs": [],
   "source": [
    "# Calculate the rolling (moving) mean of the Adjusted Close price\n",
    "data['Rolling_Mean'] = data['Adj Close'].rolling(window=window).mean()\n",
    "\n",
    "# Calculate the \"spread\" - how far the current price is from the rolling mean (relative difference)\n",
    "data['Spread'] = (data['Adj Close'] - data['Rolling_Mean']) / data['Rolling_Mean']\n",
    "\n",
    "# Create a target price change: next day's return (percentage change)\n",
    "data['Next_Day_Return'] = data['Adj Close'].shift(-1) / data['Adj Close'] - 1\n",
    "\n",
    "# Remove rows with missing values (NaN) which result from rolling calculations and shifting\n",
    "data.dropna(inplace=True) #TODO: CHECK IF THIS RUINS THE SYSTEM\n",
    "# I think this is used to remove the first/last row? Which wouldn't have data for the next-day-return\n",
    "# We should test this to determine what this is doing exactly"
   ]
  },
  {
   "cell_type": "markdown",
   "id": "e93775e8-51ab-4f2b-9133-df63c32f27f6",
   "metadata": {},
   "source": [
    "### STEP 3: Prepare Features and Target Label for the ML Model"
   ]
  },
  {
   "cell_type": "code",
   "execution_count": null,
   "id": "cc8be900-d4db-4295-bcc5-e47806c556a9",
   "metadata": {},
   "outputs": [],
   "source": [
    "features = ['Open', 'High', 'Low', 'Close', 'Volume', 'Rolling_Mean', 'Spread']\n",
    "X = data[features]\n",
    "y = data['Next_Day_Return']\n",
    "\n",
    "# For time-series data, ensure we do not shuffle the data.\n",
    "# Here we split based on an 80/20 ratio as an example.\n",
    "# TODO: Check if we need to 80/20 split here. I'm not sure it's required since our test data will be real-time data\n",
    "split_index = int(len(data)*0.8)\n",
    "X_train, X_test = X.iloc[:split_index], X.iloc[split_index:]\n",
    "y_train, y_test = y.iloc[:split_index], y.iloc[split_index:]"
   ]
  },
  {
   "cell_type": "markdown",
   "id": "8f25bec3-6500-4584-9772-4013de4b6967",
   "metadata": {},
   "source": [
    "### STEP 4: Train Random Forest Regressor"
   ]
  },
  {
   "cell_type": "code",
   "execution_count": null,
   "id": "5fb04fd1-5fcb-4464-9a06-5a0a7696f6a5",
   "metadata": {},
   "outputs": [],
   "source": [
    "# Train model\n",
    "print(\"Training Random Forest model...\")\n",
    "model = RandomForestRegressor(n_estimators=100, random_state=42)\n",
    "model.fit(X_train, y_train)"
   ]
  },
  {
   "cell_type": "code",
   "execution_count": null,
   "id": "770d3cdd-2f19-4753-9e09-9dc5cf539f23",
   "metadata": {},
   "outputs": [],
   "source": [
    "# Evaluate model\n",
    "# TODO: This will not be required for the final version. Instead we will only be training the model.\n",
    "# It may be worth testing so we have some evaluation metrics.\n",
    "preds = model.predict(X_test)\n",
    "mse = mean_squared_error(y_test, preds)\n",
    "print(f\"Test Mean Squared Error: {mse:.6f}\")"
   ]
  },
  {
   "cell_type": "markdown",
   "id": "ac73af3c-3cbb-44b7-807f-1accea02aa4c",
   "metadata": {},
   "source": [
    "### STEP 5: Trading Decision and Simulation"
   ]
  },
  {
   "cell_type": "code",
   "execution_count": null,
   "id": "30bcb44f-f0c5-4c97-bf40-6b804f8e54b2",
   "metadata": {},
   "outputs": [],
   "source": [
    "# Run model evaluation\n",
    "\n",
    "# We'll assume the \"latest\" row represents today's data (to be used before 9:00 AM for submission).\n",
    "# TODO: Write code to fetch only the data needed for today's estimation.\n",
    "# TODO: Where's rolling mean here??? The model may not run if it's not included (calculate this)\n",
    "latest = data.iloc[-1]\n",
    "latest_features = latest[features].values.reshape(1, -1)\n",
    "predicted_return = model.predict(latest_features)[0]\n",
    "spread = latest['Spread']"
   ]
  },
  {
   "cell_type": "code",
   "execution_count": null,
   "id": "a19c0942-aafc-4c62-9ea2-02b3a3d757cf",
   "metadata": {},
   "outputs": [],
   "source": [
    "# Buy/Sell/Hold decision\n",
    "\n",
    "# Trading signal based on a mean reversion strategy:\n",
    "# - If price is below the moving average (spread is negative) and we predict an upward move,\n",
    "#   then it might be undervalued -> signal to Buy.\n",
    "# - If price is above the moving average (spread is positive) and we predict a downward move,\n",
    "#   then it might be overvalued -> signal to Sell.\n",
    "# - Otherwise, Hold.\n",
    "if predicted_return > threshold and spread < -threshold:\n",
    "    decision = \"Buy\"\n",
    "elif predicted_return < -threshold and spread > threshold:\n",
    "    decision = \"Sell\"\n",
    "else:\n",
    "    decision = \"Hold\"\n",
    "\n",
    "print(\"\\nTrading Decision:\")\n",
    "print(f\"Predicted Next Day Return: {predicted_return:.4f}\")\n",
    "print(f\"Spread (Deviation from mean): {spread:.4f}\")\n",
    "print(\"Advice:\", decision)"
   ]
  },
  {
   "cell_type": "code",
   "execution_count": null,
   "id": "fecb7aad-d3c8-444a-8b54-80d8690bcb96",
   "metadata": {},
   "outputs": [],
   "source": [
    "# Simulate order details based on the decision.\n",
    "\n",
    "# TODO: Implement a more robust way of tracking which orders have been made (i.e. csv or external file)\n",
    "# Number of shares held should be based on actual value\n",
    "\n",
    "# Here we set simple rules for order sizing. In a full implementation, you would incorporate your current portfolio.\n",
    "if decision == \"Buy\":\n",
    "    # Example: invest 10% of current capital (before transaction fees)\n",
    "    buy_amount = capital * 0.1\n",
    "    # Adjust for a 1% fee\n",
    "    buy_amount_after_fee = buy_amount * (1 - transaction_fee_rate)\n",
    "    print(f\"Buy: ${buy_amount_after_fee:.2f} worth of shares.\")\n",
    "elif decision == \"Sell\":\n",
    "    # Example: assume you hold some shares; here, we'll simulate selling 10% of a placeholder holding.\n",
    "    num_shares_held = 10  # This should come from your portfolio tracking system.\n",
    "    shares_to_sell = max(int(num_shares_held * 0.1), 1)\n",
    "    print(f\"Sell: {shares_to_sell} shares (after applying transaction fees to proceeds).\")\n",
    "else:\n",
    "    print(\"Hold: No transaction will be made.\")"
   ]
  }
 ],
 "metadata": {
  "kernelspec": {
   "display_name": "Python 3 (ipykernel)",
   "language": "python",
   "name": "python3"
  },
  "language_info": {
   "codemirror_mode": {
    "name": "ipython",
    "version": 3
   },
   "file_extension": ".py",
   "mimetype": "text/x-python",
   "name": "python",
   "nbconvert_exporter": "python",
   "pygments_lexer": "ipython3",
   "version": "3.9.4"
  }
 },
 "nbformat": 4,
 "nbformat_minor": 5
}
