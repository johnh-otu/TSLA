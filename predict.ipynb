{
 "cells": [
  {
   "cell_type": "code",
   "execution_count": null,
   "metadata": {},
   "outputs": [],
   "source": [
    "# Import Libraries\n",
    "import os\n",
    "import json\n",
    "import yfinance as yf\n",
    "import pandas as pd\n",
    "import numpy as np\n",
    "from sklearn.ensemble import RandomForestRegressor\n",
    "from sklearn.model_selection import train_test_split\n",
    "from sklearn.metrics import mean_squared_error\n",
    "\n",
    "# Parameters and settings\n",
    "ticker = \"TSLA\"\n",
    "period = \"25d\"  # historical period to pull\n",
    "interval = \"1d\"  # interval of data pulled\n",
    "window = 20    # rolling window for moving average\n",
    "threshold = 0.005  # threshold for decision making\n",
    "capital = 10000  # starting capital in USD\n",
    "transaction_fee_rate = 0.01  # 1% fee\n",
    "features = ['Open', 'High', 'Low', 'Close', 'Volume', 'Rolling_Mean', 'Spread']\n",
    "portfolio_filename = \"portfolio.json\"\n",
    "current_price = 999999999999999.99\n",
    "model_path = \"\" # TODO: Add model path\n",
    "sell_ratio = 0.4 # sell 40% of shares (originally 10%)\n",
    "buy_ratio = 0.1 # buy with 10% of capital\n",
    "\n",
    "# TODO: Load model\n",
    "def get_model(path):\n",
    "    # use libjar/pickle to load model\n",
    "    print(f\"loaded model from {path}\")\n",
    "    # return model\n",
    "\n",
    "def get_data():\n",
    "    data = yf.download(ticker, period=period, interval=interval)\n",
    "    if data.empty:\n",
    "        raise ValueError(\"No data retrived. Check network connection.\")\n",
    "    \n",
    "    last_20_adj_close = data[\"Adj Close\"].tail(window)\n",
    "    rolling_mean = last_20_adj_close.rolling(window=window).mean().iloc[-1]\n",
    "\n",
    "    yesterday = data.iloc[-1]\n",
    "    yesterday[\"Rolling_Mean\"] = rolling_mean\n",
    "    yesterday[\"Spread\"] = (yesterday[\"Adj Close\"] - rolling_mean) / rolling_mean\n",
    "    return yesterday[features]\n",
    "\n",
    "# Run model prediction\n",
    "def predict(model, data):\n",
    "    latest_features = data[features].values.reshape(1, -1)\n",
    "    predicted_return = model.predict(latest_features)[0]\n",
    "    spread = data['Spread']\n",
    "    return predicted_return, spread\n",
    "\n",
    "# Buy/Sell/Hold decision\n",
    "def make_decision(predicted_return, spread):\n",
    "    # Trading signal based on a mean reversion strategy:\n",
    "    # - If price is below the moving average (spread is negative) and we predict an upward move,\n",
    "    #   then it might be undervalued -> signal to Buy.\n",
    "    # - If price is above the moving average (spread is positive) and we predict a downward move,\n",
    "    #   then it might be overvalued -> signal to Sell.\n",
    "    # - Otherwise, Hold.\n",
    "\n",
    "    if predicted_return > threshold and spread < -threshold:\n",
    "        decision = \"Buy\"\n",
    "    elif predicted_return < -threshold and spread > threshold:\n",
    "        decision = \"Sell\"\n",
    "    else:\n",
    "        decision = \"Hold\"\n",
    "\n",
    "    print(\"\\nTrading Decision:\")\n",
    "    print(f\"Predicted Next Day Return: {predicted_return:.4f}\")\n",
    "    print(f\"Spread (Deviation from mean): {spread:.4f}\")\n",
    "    print(\"Advice:\", decision)\n",
    "\n",
    "    return decision\n",
    "\n",
    "def get_portfolio_data():\n",
    "    \n",
    "    default = {\"shares\": 0, \"capital\": capital}\n",
    "    portfolio_data = {}\n",
    "\n",
    "    # Check if portfolio file exists\n",
    "    #   - If exists -> import data\n",
    "    #   - If not exists -> generate new file and use default data\n",
    "    if not os.path.exists(portfolio_filename):\n",
    "        return update_portfolio(default)\n",
    "    else:\n",
    "        try:\n",
    "            with open(portfolio_filename, \"r\") as fp:\n",
    "                portfolio_data = json.load(fp)\n",
    "        except json.JSONDecodeError:\n",
    "            # if corrupt or empty, reset to default\n",
    "            portfolio_data = default\n",
    "            update_portfolio(portfolio_data)\n",
    "        \n",
    "        # check all expected keys exist\n",
    "        for key, val in default.items():\n",
    "            if key not in portfolio_data:\n",
    "                portfolio_data[key] = val\n",
    "    \n",
    "    return portfolio_data\n",
    "\n",
    "def update_portfolio(portfolio):\n",
    "    with open(portfolio_filename, \"w\") as fp:\n",
    "            json.dump(portfolio, fp, indent=4)\n",
    "    return portfolio\n",
    "\n",
    "# Simulate order details based on the decision.\n",
    "def simulate_order(decision, current_price):\n",
    "\n",
    "    portfolio = get_portfolio_data()\n",
    "\n",
    "    if decision == \"Buy\":\n",
    "        # Example: invest 10% of current capital (before transaction fees)\n",
    "        buy_amount = capital * buy_ratio\n",
    "        # Adjust for a 1% fee\n",
    "        buy_amount_after_fee = buy_amount * (1 - transaction_fee_rate)\n",
    "        shares_to_buy = int(buy_amount / current_price)\n",
    "\n",
    "        if shares_to_buy == 0:\n",
    "            return \"Hold: No transaction will be made.\"\n",
    "        else:\n",
    "            buy_amount = shares_to_buy * current_price\n",
    "            buy_amount_after_fee = buy_amount * (1 - transaction_fee_rate)\n",
    "            portfolio[\"capital\"] -= buy_amount_after_fee\n",
    "            portfolio[\"shares\"] += shares_to_buy\n",
    "            update_portfolio(portfolio)\n",
    "            return f\"Buy: ${buy_amount_after_fee:.2f} worth of shares.\"\n",
    "    elif decision == \"Sell\":\n",
    "        # Simulate selling 10% of a placeholder holding.\n",
    "        num_shares_held = portfolio[\"shares\"]\n",
    "\n",
    "        if (num_shares_held < 1):\n",
    "            return \"Hold: No transaction will be made.\"\n",
    "\n",
    "        shares_to_sell = max(int(num_shares_held * sell_ratio), 1)\n",
    "        return f\"Sell: {shares_to_sell} shares (after applying transaction fees to proceeds).\"\n",
    "    else:\n",
    "        return \"Hold: No transaction will be made.\"\n",
    "\n",
    "def get_current_price():\n",
    "    tckr = yf.Ticker(ticker)\n",
    "    price = tckr.info.get(\"regularMarketPrice\")\n",
    "    if price:\n",
    "        return price\n",
    "    else:\n",
    "        return current_price"
   ]
  },
  {
   "cell_type": "code",
   "execution_count": null,
   "metadata": {},
   "outputs": [],
   "source": [
    "# Use model with recent data to predict today's return and spread\n",
    "pred_return, spread = predict(get_model(model_path), get_data())"
   ]
  },
  {
   "cell_type": "code",
   "execution_count": null,
   "metadata": {},
   "outputs": [],
   "source": [
    "# Make decision (Buy, Sell, Hold)\n",
    "decision = make_decision(pred_return, spread)"
   ]
  },
  {
   "cell_type": "code",
   "execution_count": 9,
   "metadata": {},
   "outputs": [
    {
     "name": "stdout",
     "output_type": "stream",
     "text": [
      "248.71\n"
     ]
    }
   ],
   "source": [
    "# Get current price for buy/sell orders\n",
    "if decision != \"Hold\":\n",
    "    current_price = get_current_price()\n",
    "print(current_price)"
   ]
  },
  {
   "cell_type": "code",
   "execution_count": 14,
   "metadata": {},
   "outputs": [
    {
     "name": "stdout",
     "output_type": "stream",
     "text": [
      "Sell: 1 shares (after applying transaction fees to proceeds).\n"
     ]
    }
   ],
   "source": [
    "# Simulate order\n",
    "print(simulate_order(decision, current_price))"
   ]
  },
  {
   "cell_type": "code",
   "execution_count": null,
   "metadata": {},
   "outputs": [],
   "source": [
    "# DEBUG\n",
    "decision = \"Sell\"\n",
    "current_price = 248.71"
   ]
  },
  {
   "cell_type": "code",
   "execution_count": null,
   "metadata": {},
   "outputs": [],
   "source": []
  }
 ],
 "metadata": {
  "kernelspec": {
   "display_name": "Python 3 (ipykernel)",
   "language": "python",
   "name": "python3"
  },
  "language_info": {
   "codemirror_mode": {
    "name": "ipython",
    "version": 3
   },
   "file_extension": ".py",
   "mimetype": "text/x-python",
   "name": "python",
   "nbconvert_exporter": "python",
   "pygments_lexer": "ipython3",
   "version": "3.9.4"
  }
 },
 "nbformat": 4,
 "nbformat_minor": 4
}
